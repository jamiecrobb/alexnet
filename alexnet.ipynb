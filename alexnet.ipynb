{
 "cells": [
  {
   "cell_type": "markdown",
   "id": "79d70da2",
   "metadata": {},
   "source": [
    "# Load in and pre-process data"
   ]
  },
  {
   "cell_type": "code",
   "execution_count": 1,
   "id": "b5459de3",
   "metadata": {},
   "outputs": [],
   "source": [
    "import torch\n",
    "from torch.utils.data import DataLoader\n",
    "import torchvision.transforms as transforms\n",
    "from torchvision.datasets import CIFAR10\n",
    "from torch.utils.data import DataLoader\n",
    "\n",
    "project_root = \"~/code/personal/alexnet\"\n",
    "data_path = project_root + \"/data\"\n",
    "weights_path = project_root + \"/weights\""
   ]
  },
  {
   "cell_type": "code",
   "execution_count": 2,
   "id": "aee6e391",
   "metadata": {},
   "outputs": [
    {
     "name": "stdout",
     "output_type": "stream",
     "text": [
      "Files already downloaded and verified\n",
      "Files already downloaded and verified\n",
      "Files already downloaded and verified\n"
     ]
    }
   ],
   "source": [
    "transform = transforms.Compose([\n",
    "    transforms.ToTensor(),\n",
    "    transforms.Resize((32)),\n",
    "    transforms.CenterCrop((32, 32)),\n",
    "])\n",
    "\n",
    "cifar10_classes = CIFAR10(root=data_path, train=True, download=True).classes\n",
    "\n",
    "train_dataset = CIFAR10(root=data_path, train=True, download=True, transform=transform)\n",
    "test_dataset = CIFAR10(root=data_path, train=False, download=True, transform=transform)\n",
    "\n",
    "train_loader = DataLoader(train_dataset, batch_size=16, shuffle=True)\n",
    "test_loader = DataLoader(test_dataset, batch_size=16, shuffle=False)"
   ]
  },
  {
   "cell_type": "markdown",
   "id": "30572485",
   "metadata": {},
   "source": [
    "# Define model architecture"
   ]
  },
  {
   "cell_type": "code",
   "execution_count": 3,
   "id": "32eac1c2",
   "metadata": {},
   "outputs": [],
   "source": [
    "from torch import nn\n",
    "\n",
    "class AlexNet(nn.Module):\n",
    "    def __init__(self, num_classes=10):\n",
    "        super(AlexNet, self).__init__()\n",
    "        \n",
    "        self.l1 = nn.Sequential(\n",
    "            nn.Conv2d(3, 48, 3, stride=1, padding=1),\n",
    "            nn.BatchNorm2d(num_features=48),\n",
    "            nn.ReLU(),\n",
    "            nn.MaxPool2d(kernel_size=2, stride=2)\n",
    "        )\n",
    "        self.l2 = nn.Sequential(\n",
    "            nn.Conv2d(48, 128, 3, stride=1, padding=1),\n",
    "            nn.BatchNorm2d(num_features=128),\n",
    "            nn.ReLU(),\n",
    "            nn.MaxPool2d(kernel_size=2, stride=2)\n",
    "        )\n",
    "        self.l3 = nn.Sequential(\n",
    "            nn.Conv2d(128, 192, 3, stride=1, padding=1),\n",
    "            nn.ReLU(),\n",
    "        )\n",
    "        self.l4 = nn.Sequential(\n",
    "            nn.Conv2d(192, 192, 3, stride=1, padding=1),\n",
    "            nn.ReLU(),\n",
    "        )\n",
    "        self.l5 = nn.Sequential(\n",
    "            nn.Conv2d(192, 128, 3, stride=1, padding=1),\n",
    "            nn.ReLU(),\n",
    "            nn.MaxPool2d(kernel_size=2, stride=2)\n",
    "        )\n",
    "\n",
    "        self.fc1 = nn.Sequential(\n",
    "            nn.Linear(128 * 4 * 4, 512),  # Adjust the input size based on the new feature map size\n",
    "            nn.ReLU(),\n",
    "        )\n",
    "        self.fc2 = nn.Sequential(\n",
    "            nn.Linear(512, 512),\n",
    "            nn.ReLU(),\n",
    "        )\n",
    "        self.fc3 = nn.Linear(512, num_classes)\n",
    "\n",
    "    def forward(self, x):\n",
    "        x = self.l1(x)\n",
    "        x = self.l2(x)\n",
    "        x = self.l3(x)\n",
    "        x = self.l4(x)\n",
    "        x = self.l5(x)\n",
    "\n",
    "        x = x.view(-1, 128 * 4 * 4)\n",
    "\n",
    "        x = self.fc1(x)\n",
    "        x = self.fc2(x)\n",
    "        x = self.fc3(x)\n",
    "\n",
    "        return x\n"
   ]
  },
  {
   "cell_type": "markdown",
   "id": "f00277c0",
   "metadata": {},
   "source": [
    "# Train model"
   ]
  },
  {
   "cell_type": "code",
   "execution_count": 4,
   "id": "1bdb477e",
   "metadata": {},
   "outputs": [],
   "source": [
    "alexnet = AlexNet()"
   ]
  },
  {
   "cell_type": "code",
   "execution_count": 5,
   "id": "af2e8fe9",
   "metadata": {},
   "outputs": [],
   "source": [
    "import torch.optim as optim\n",
    "\n",
    "criterion = torch.nn.CrossEntropyLoss()\n",
    "optimiser = optim.SGD(alexnet.parameters(), momentum=0.9, lr=0.005, weight_decay=0.005)"
   ]
  },
  {
   "cell_type": "code",
   "execution_count": 6,
   "id": "a8c17f4e",
   "metadata": {},
   "outputs": [
    {
     "name": "stdout",
     "output_type": "stream",
     "text": [
      "Device: cuda\n"
     ]
    },
    {
     "data": {
      "text/plain": [
       "AlexNet(\n",
       "  (l1): Sequential(\n",
       "    (0): Conv2d(3, 48, kernel_size=(3, 3), stride=(1, 1), padding=(1, 1))\n",
       "    (1): BatchNorm2d(48, eps=1e-05, momentum=0.1, affine=True, track_running_stats=True)\n",
       "    (2): ReLU()\n",
       "    (3): MaxPool2d(kernel_size=2, stride=2, padding=0, dilation=1, ceil_mode=False)\n",
       "  )\n",
       "  (l2): Sequential(\n",
       "    (0): Conv2d(48, 128, kernel_size=(3, 3), stride=(1, 1), padding=(1, 1))\n",
       "    (1): BatchNorm2d(128, eps=1e-05, momentum=0.1, affine=True, track_running_stats=True)\n",
       "    (2): ReLU()\n",
       "    (3): MaxPool2d(kernel_size=2, stride=2, padding=0, dilation=1, ceil_mode=False)\n",
       "  )\n",
       "  (l3): Sequential(\n",
       "    (0): Conv2d(128, 192, kernel_size=(3, 3), stride=(1, 1), padding=(1, 1))\n",
       "    (1): ReLU()\n",
       "  )\n",
       "  (l4): Sequential(\n",
       "    (0): Conv2d(192, 192, kernel_size=(3, 3), stride=(1, 1), padding=(1, 1))\n",
       "    (1): ReLU()\n",
       "  )\n",
       "  (l5): Sequential(\n",
       "    (0): Conv2d(192, 128, kernel_size=(3, 3), stride=(1, 1), padding=(1, 1))\n",
       "    (1): ReLU()\n",
       "    (2): MaxPool2d(kernel_size=2, stride=2, padding=0, dilation=1, ceil_mode=False)\n",
       "  )\n",
       "  (fc1): Sequential(\n",
       "    (0): Linear(in_features=2048, out_features=512, bias=True)\n",
       "    (1): ReLU()\n",
       "  )\n",
       "  (fc2): Sequential(\n",
       "    (0): Linear(in_features=512, out_features=512, bias=True)\n",
       "    (1): ReLU()\n",
       "  )\n",
       "  (fc3): Linear(in_features=512, out_features=10, bias=True)\n",
       ")"
      ]
     },
     "execution_count": 6,
     "metadata": {},
     "output_type": "execute_result"
    }
   ],
   "source": [
    "import torch\n",
    "\n",
    "# Check if CUDA is available\n",
    "device = torch.device(\"cuda\" if torch.cuda.is_available() else \"cpu\")\n",
    "print(\"Device:\", device)\n",
    "\n",
    "# Move the model to CUDA\n",
    "alexnet.to(device)"
   ]
  },
  {
   "cell_type": "code",
   "execution_count": null,
   "id": "ffb1034b",
   "metadata": {},
   "outputs": [],
   "source": [
    "from liveloss.liveloss import LiveLoss\n",
    "\n",
    "l = LiveLoss()\n",
    "\n",
    "# Inside the training loop\n",
    "for epoch in range(25):\n",
    "    running_loss = 0.0\n",
    "    for i, data in enumerate(train_loader, 0):\n",
    "        inputs, labels = data\n",
    "        inputs, labels = inputs.to(device), labels.to(device)  # Move data to GPU\n",
    "\n",
    "        optimiser.zero_grad()\n",
    "\n",
    "        outputs = alexnet(inputs)\n",
    "        labels = labels.squeeze()\n",
    "\n",
    "        loss = criterion(outputs, labels)\n",
    "        loss.backward()\n",
    "        optimiser.step()\n",
    "\n",
    "        running_loss += loss.item()\n",
    "    \n",
    "    epoch_loss = running_loss / len(train_loader)\n",
    "    l.send(epoch+1, epoch_loss)\n",
    "    print(f\"Current loss: {epoch_loss:.3f}\")\n",
    "    running_loss = 0.0 \n",
    "\n",
    "    model_path = weights_path + f'/alexnet_epoch_{epoch+1}.pth'\n",
    "    torch.save(alexnet.state_dict(), model_path)\n",
    "    print(f'Model saved at epoch {epoch+1}.')\n",
    "\n",
    "print('Finished Training')"
   ]
  },
  {
   "cell_type": "markdown",
   "id": "f138c6e7",
   "metadata": {},
   "source": [
    "# Validation and inference"
   ]
  },
  {
   "cell_type": "code",
   "execution_count": null,
   "id": "5769d3bd",
   "metadata": {},
   "outputs": [],
   "source": [
    "import numpy as np\n",
    "\n",
    "# Assuming you have already trained your model and saved its weights\n",
    "# Load the trained model\n",
    "alexnet = AlexNet()\n",
    "alexnet.load_state_dict(torch.load('model/alexnet_epoch_25.pth'))\n",
    "alexnet.eval()\n",
    "\n",
    "# Move the model to the GPU if available\n",
    "device = torch.device(\"cuda\" if torch.cuda.is_available() else \"cpu\")\n",
    "alexnet.to(device)\n",
    "\n",
    "# Get a batch from the test loader\n",
    "test_iter = iter(test_loader)\n",
    "sample_inputs, sample_labels = next(test_iter)\n",
    "sample_inputs, sample_labels = sample_inputs.to(device), sample_labels.to(device)\n",
    "\n",
    "# Perform inference\n",
    "with torch.no_grad():\n",
    "    output = alexnet(sample_inputs)\n",
    "\n",
    "# Convert the output to probabilities using softmax (if your model is for classification)\n",
    "probabilities = torch.nn.functional.softmax(output, dim=1)\n",
    "\n",
    "# Get the predicted classes\n",
    "predicted_classes = torch.argmax(probabilities, dim=1)\n",
    "\n",
    "predicted_classes = predicted_classes.cpu().numpy()\n",
    "sample_labels = sample_labels.cpu().numpy()\n",
    "\n",
    "print(predicted_classes)\n",
    "print(sample_labels)\n",
    "\n",
    "# Find the common elements\n",
    "common_elements = np.equal(predicted_classes, sample_labels)\n",
    "\n",
    "# Calculate the percentage of common elements\n",
    "percentage_common = np.sum(common_elements) / len(predicted_classes) * 100\n",
    "\n",
    "print(f\"Percentage of common elements: {percentage_common:.2f}%\")"
   ]
  },
  {
   "cell_type": "code",
   "execution_count": null,
   "id": "06449ed3",
   "metadata": {},
   "outputs": [],
   "source": [
    "def get_accuracy_for_batch(sample_inputs, sample_labels) -> float:\n",
    "    \"\"\"\n",
    "    Given a batch from the train split, calculate the inference accuracy\n",
    "    \"\"\"\n",
    "\n",
    "    sample_inputs, sample_labels = sample_inputs.to(device), sample_labels.to(device)\n",
    "\n",
    "    with torch.no_grad():\n",
    "        output = alexnet(sample_inputs)\n",
    "\n",
    "    # Convert the output to probabilities using softmax\n",
    "    probabilities = torch.nn.functional.softmax(output, dim=1)\n",
    "\n",
    "    predicted_classes = torch.argmax(probabilities, dim=1)\n",
    "\n",
    "    predicted_classes = predicted_classes.cpu().numpy()\n",
    "    sample_labels = sample_labels.cpu().numpy()\n",
    "\n",
    "    # Find the common elements and calculate accuracy\n",
    "    common_elements = np.equal(predicted_classes, sample_labels)\n",
    "    accuracy = np.sum(common_elements) / len(predicted_classes) * 100\n",
    "    return accuracy\n",
    "\n",
    "\n",
    "test_iter = iter(test_loader)\n",
    "sample_inputs, sample_labels = next(test_iter)\n",
    "get_accuracy_for_batch(sample_inputs, sample_labels)\n",
    "\n",
    "accuracies = []\n",
    "\n",
    "for i, (sample_inputs, sample_labels) in enumerate(test_loader):\n",
    "    accuracies.append(get_accuracy_for_batch(sample_inputs, sample_labels))\n",
    "\n",
    "print(sum(accuracies) / len(accuracies))"
   ]
  },
  {
   "cell_type": "markdown",
   "id": "7222210f",
   "metadata": {},
   "source": [
    "66.79% accuracy"
   ]
  }
 ],
 "metadata": {
  "kernelspec": {
   "display_name": ".env",
   "language": "python",
   "name": "python3"
  },
  "language_info": {
   "codemirror_mode": {
    "name": "ipython",
    "version": 3
   },
   "file_extension": ".py",
   "mimetype": "text/x-python",
   "name": "python",
   "nbconvert_exporter": "python",
   "pygments_lexer": "ipython3",
   "version": "3.10.12"
  }
 },
 "nbformat": 4,
 "nbformat_minor": 5
}
